{
  "nbformat": 4,
  "nbformat_minor": 0,
  "metadata": {
    "colab": {
      "provenance": [],
      "authorship_tag": "ABX9TyOkj3KHPAFfeozYpv1CWoLw",
      "include_colab_link": true
    },
    "kernelspec": {
      "name": "python3",
      "display_name": "Python 3"
    },
    "language_info": {
      "name": "python"
    }
  },
  "cells": [
    {
      "cell_type": "markdown",
      "metadata": {
        "id": "view-in-github",
        "colab_type": "text"
      },
      "source": [
        "<a href=\"https://colab.research.google.com/github/sowmiyak05/Plant-Species/blob/main/Plant_Species_Classification.ipynb\" target=\"_parent\"><img src=\"https://colab.research.google.com/assets/colab-badge.svg\" alt=\"Open In Colab\"/></a>"
      ]
    },
    {
      "cell_type": "code",
      "source": [
        "from google.colab import drive\n",
        "drive.mount('/content/drive')"
      ],
      "metadata": {
        "colab": {
          "base_uri": "https://localhost:8080/"
        },
        "id": "su1KOp4xxfRv",
        "outputId": "fd6ba7b3-d0f9-4006-a6f3-322a9c9c9bc7"
      },
      "execution_count": null,
      "outputs": [
        {
          "output_type": "stream",
          "name": "stdout",
          "text": [
            "Mounted at /content/drive\n"
          ]
        }
      ]
    },
    {
      "cell_type": "code",
      "source": [
        "import numpy as np\n",
        "import pandas as pd\n",
        "import matplotlib.pyplot as plt\n",
        "import os\n",
        "\n",
        "dataset_path = os.listdir('/content/drive/MyDrive/PlantClassification/split_ttv_dataset_type_of_plants/Test_Set_Folder/plant/test_set_folder')\n",
        "label_types = os.listdir('/content/drive/MyDrive/PlantClassification/split_ttv_dataset_type_of_plants/Test_Set_Folder/plant/test_set_folder')\n",
        "print (label_types)\n",
        "\n",
        "rooms = []\n",
        "\n",
        "for item in dataset_path:\n",
        " # Get all the file names\n",
        " all_rooms = os.listdir('/content/drive/MyDrive/PlantClassification/split_ttv_dataset_type_of_plants/Test_Set_Folder/plant/test_set_folder' + '/' +item)\n",
        "\n",
        " # Add them to the list\n",
        " for room in all_rooms:\n",
        "    rooms.append((item, str('/content/drive/MyDrive/PlantClassification/split_ttv_dataset_type_of_plants/Test_Set_Folder/plant/test_set_folder' + '/' +item) + '/' + room))\n",
        "\n",
        "# Build a dataframe\n",
        "train_df = pd.DataFrame(data=rooms, columns=['tag', 'image_name1'])\n",
        "print(train_df.head())\n",
        "print(train_df.tail())\n",
        "\n",
        "\n",
        "\n",
        "from PIL import Image\n",
        "\n",
        "# Add grayscale image to each row in the DataFrame\n",
        "def load_grayscale_image(path):\n",
        "    try:\n",
        "        grayimg= Image.open(path).convert('L')\n",
        "        grayimg = grayimg.resize((10,10))\n",
        "        flat_vector = np.array(grayimg).flatten()  # Flatten to 1D\n",
        "        return flat_vector\n",
        "\n",
        "    except:\n",
        "        print(f\"Could not open image: {'/content/drive/MyDrive/PlantClassification/split_ttv_dataset_type_of_plants/Test_Set_Folder/plant/test_set_folder'}\")\n",
        "        return None\n",
        "\n",
        "# Apply grayscale image loading\n",
        "train_df['grayscale_image1'] = train_df['image_name1'].apply(load_grayscale_image)\n",
        "\n",
        "# Drop rows with failed image loading\n",
        "train_df = train_df.dropna(subset=['grayscale_image1'])\n",
        "\n",
        "X = np.stack(train_df['grayscale_image1'].values)  # Feature matrix\n",
        "y = train_df['tag'].values\n",
        "\n",
        "print (X.shape)\n",
        "print (y.shape)\n",
        "\n",
        "from sklearn.neighbors import KNeighborsClassifier\n",
        "\n",
        "knn=KNeighborsClassifier(n_neighbors=5)\n",
        "from sklearn.model_selection import train_test_split\n",
        "from sklearn.metrics import confusion_matrix, accuracy_score, precision_score, recall_score, f1_score, classification_report\n",
        "\n",
        "X_train, X_test, y_train, y_test = train_test_split(X, y, test_size=0.7, random_state=42)\n",
        "\n",
        "knn.fit(X_train,y_train)\n",
        "a=knn.predict(X_test)\n",
        "print(a)\n",
        "\n",
        "cm = confusion_matrix(y_test,a)\n",
        "print(cm)\n",
        "print(\"Classification Report:\")\n",
        "print(classification_report(y_test, a))"
      ],
      "metadata": {
        "colab": {
          "base_uri": "https://localhost:8080/"
        },
        "id": "IAs8X4iXWDTi",
        "outputId": "4a803432-316e-4905-8cf9-b6387ea4144d"
      },
      "execution_count": null,
      "outputs": [
        {
          "output_type": "stream",
          "name": "stdout",
          "text": [
            "['banana', 'alovera', 'watermelon']\n",
            "      tag                                        image_name1\n",
            "0  banana  /content/drive/MyDrive/PlantClassification/spl...\n",
            "1  banana  /content/drive/MyDrive/PlantClassification/spl...\n",
            "2  banana  /content/drive/MyDrive/PlantClassification/spl...\n",
            "3  banana  /content/drive/MyDrive/PlantClassification/spl...\n",
            "4  banana  /content/drive/MyDrive/PlantClassification/spl...\n",
            "           tag                                        image_name1\n",
            "25  watermelon  /content/drive/MyDrive/PlantClassification/spl...\n",
            "26  watermelon  /content/drive/MyDrive/PlantClassification/spl...\n",
            "27  watermelon  /content/drive/MyDrive/PlantClassification/spl...\n",
            "28  watermelon  /content/drive/MyDrive/PlantClassification/spl...\n",
            "29  watermelon  /content/drive/MyDrive/PlantClassification/spl...\n",
            "(30, 100)\n",
            "(30,)\n",
            "['alovera' 'alovera' 'alovera' 'alovera' 'banana' 'banana' 'banana'\n",
            " 'alovera' 'alovera' 'alovera' 'banana' 'banana' 'banana' 'banana'\n",
            " 'banana' 'alovera' 'banana' 'banana' 'banana' 'banana' 'alovera']\n",
            "[[3 3 0]\n",
            " [1 7 0]\n",
            " [5 2 0]]\n",
            "Classification Report:\n",
            "              precision    recall  f1-score   support\n",
            "\n",
            "     alovera       0.33      0.50      0.40         6\n",
            "      banana       0.58      0.88      0.70         8\n",
            "  watermelon       0.00      0.00      0.00         7\n",
            "\n",
            "    accuracy                           0.48        21\n",
            "   macro avg       0.31      0.46      0.37        21\n",
            "weighted avg       0.32      0.48      0.38        21\n",
            "\n"
          ]
        }
      ]
    }
  ]
}